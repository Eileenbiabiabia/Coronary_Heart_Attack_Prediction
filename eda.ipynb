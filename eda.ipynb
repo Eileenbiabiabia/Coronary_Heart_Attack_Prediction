{
 "cells": [
  {
   "cell_type": "code",
   "execution_count": 1,
   "metadata": {},
   "outputs": [
    {
     "name": "stdout",
     "output_type": "stream",
     "text": [
      "                    min   max     median\n",
      "Diabetes_binary     0.0   1.0   0.000000\n",
      "HighBP              0.0   1.0   1.000000\n",
      "HighChol            0.0   1.0   0.987696\n",
      "CholCheck           0.0   1.0   1.000000\n",
      "BMI                12.0  98.0  28.000000\n",
      "Smoker              0.0   1.0   0.698308\n",
      "Stroke              0.0   1.0   0.000000\n",
      "PhysActivity        0.0   1.0   1.000000\n",
      "Fruits              0.0   1.0   1.000000\n",
      "Veggies             0.0   1.0   1.000000\n",
      "HvyAlcoholConsump   0.0   1.0   0.000000\n",
      "AnyHealthcare       0.0   1.0   1.000000\n",
      "NoDocbcCost         0.0   1.0   0.000000\n",
      "GenHlth             1.0   5.0   3.000000\n",
      "MentHlth            0.0  30.0   0.000000\n",
      "PhysHlth            0.0  30.0   0.000000\n",
      "DiffWalk            0.0   1.0   0.000000\n",
      "Sex                 0.0   1.0   0.513711\n",
      "Age                 1.0  13.0   9.170295\n",
      "Education           1.0   6.0   5.000000\n",
      "Income              1.0   8.0   6.000000\n"
     ]
    }
   ],
   "source": [
    "import pandas as pd\n",
    "\n",
    "def quick_eda(file_path):\n",
    "    # 读取 CSV 文件\n",
    "    data = pd.read_csv(file_path)\n",
    "    \n",
    "    # 计算每列的最小值、最大值和中位数\n",
    "    summary = data.describe().T[['min', 'max']].copy()\n",
    "    summary['median'] = data.median()\n",
    "    \n",
    "    # 返回结果\n",
    "    return summary\n",
    "\n",
    "# 调用函数并打印结果\n",
    "file_path = 'Dataset/X_train.csv'  # 替换为你的 CSV 文件路径\n",
    "eda_result = quick_eda(file_path)\n",
    "print(eda_result)"
   ]
  }
 ],
 "metadata": {
  "kernelspec": {
   "display_name": "MSAI339",
   "language": "python",
   "name": "python3"
  },
  "language_info": {
   "codemirror_mode": {
    "name": "ipython",
    "version": 3
   },
   "file_extension": ".py",
   "mimetype": "text/x-python",
   "name": "python",
   "nbconvert_exporter": "python",
   "pygments_lexer": "ipython3",
   "version": "3.8.6"
  }
 },
 "nbformat": 4,
 "nbformat_minor": 2
}
